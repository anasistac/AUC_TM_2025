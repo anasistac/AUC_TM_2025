{
  "cells": [
    {
      "cell_type": "markdown",
      "metadata": {
        "id": "view-in-github",
        "colab_type": "text"
      },
      "source": [
        "<a href=\"https://colab.research.google.com/github/anasistac/AUC_TM_2025/blob/main/notebook.ipynb\" target=\"_parent\"><img src=\"https://colab.research.google.com/assets/colab-badge.svg\" alt=\"Open In Colab\"/></a>"
      ]
    },
    {
      "cell_type": "markdown",
      "metadata": {
        "id": "9eN2Z7e1GL2v"
      },
      "source": [
        "# Assignment 2"
      ]
    },
    {
      "cell_type": "markdown",
      "metadata": {
        "id": "UhyI8EcXGL2x"
      },
      "source": [
        "## Guidelines\n",
        "\n",
        "> Remember that this is a code notebook - add an explanation of what you do using text boxes and markdown, and comment your code. Answers without explanations may get less points.\n",
        ">\n",
        "> If you re-use a substantial portion of code you find online, e.g on Stackoverflow, you need to add a link to it and make the borrowing explicit. The same applies of you take it and modify it, even substantially. There is nothing bad in doing that, providing you are acknowledging it and make it clear you know what you're doing.\n",
        ">\n",
        "> The **Generative AI policy** from the syllabus for the programming assignments applies. Generative AI can be used as a source of information in these assignments if properly referenced. You can use generative AI assistance for writing code, but you must reference the chat used as a source, just as if you would take from StackOverflow. In ChatGPT, you can make an URL to the information you obtained by clicking the \"Share link to Chat\" button and then \"Copy Link\". This allows you to cite the source of the information you use in your answer or code solution. Of course, as you know, GenAI tools are not always a reliable source and its answers are intransparantly drawn from other sources - it is recommended to cross-check its output with other sources or your own understanding of the topic.\n",
        ">\n",
        "> For the explanations of what you do that you provide with each question, as well as for (sub)questions that ask about things like motivation of choices or your opinion, the answer to this must be conceptualized and written by yourself and not copied from a generative AI source.\n",
        ">\n",
        "> Make sure your notebooks have been run when you submit, as I won't run them myself. Submit both the `.ipynb` file along with an `.html` export of the same. Submit all necessary auxilliary files as well. Please compress your submission into a `.zip` archive. Only `.zip` files can be submitted.\n",
        "> If you are using Google Colab, here is a tutorial for obtaining an HTML export: https://stackoverflow.com/questions/53460051/convert-ipynb-notebook-to-html-in-google-colab .\n",
        ">\n",
        "> With Jupyter, you can simply export it as HTML through the File menu."
      ]
    },
    {
      "cell_type": "markdown",
      "metadata": {
        "id": "dDKVLHBBGL2y"
      },
      "source": [
        "## Grading policy\n",
        "> As follows:\n",
        ">\n",
        "> * 70 points for correctly completing the assignment.\n",
        ">\n",
        "> * 20 points for appropriately writing and organizing your code in terms of structure, readibility (also by humans), comments and minimal documentation. It is important to be concise but also to explain what you did and why, when not obvious. Feel free to re-use functions and variables from previous questions if that helps for structure and readability - you do not need to repeat previous steps for each question.\n",
        ">\n",
        "> * 10 points for doing something extra, e.g., if you go beyond expectations (overall or on something specific). Some ideas for extras might be mentioned in the exercises, or you can come up with your own. You don't need to do them all to get the bonus. The sum of points is 90, doing (some of) the extras can bring you to 100, so the extras are not necessary to get an A.\n",
        ">\n",
        "\n",
        "**The AUC code of conduct applies to this assignment: please only submit your own work and follow the instructions on referencing external sources above.**"
      ]
    },
    {
      "cell_type": "markdown",
      "metadata": {
        "id": "7GaPehMhGL2z"
      },
      "source": [
        "---"
      ]
    },
    {
      "cell_type": "markdown",
      "metadata": {
        "id": "LavRha-MGL2z"
      },
      "source": [
        "# Introduction\n",
        "\n",
        "In this assignment, you will build and compare vector models for measuring **semantic similarity**.\n",
        "\n",
        "First, you are going to use different count-based methods to create these models. Secondly you are going to created dense, lower-dimensionality models from them. Thirdly, you are going to use prediction-based models as well.\n",
        "\n",
        "Eventually, you are asked to assess the performance of these models against a human gold standard.\n",
        "\n",
        "I recommend basing your code on the examples in the course notebooks on this topic."
      ]
    },
    {
      "cell_type": "markdown",
      "metadata": {
        "id": "M-7uU1rIGL2z"
      },
      "source": [
        "---"
      ]
    },
    {
      "cell_type": "markdown",
      "metadata": {
        "id": "eK6yRQniGL2z"
      },
      "source": [
        "# Corpus preparation (8 points)"
      ]
    },
    {
      "cell_type": "markdown",
      "metadata": {
        "id": "OVX1BMhDGL20"
      },
      "source": [
        "## Question 1 (8 points)\n",
        "\n",
        "Prepare for creating a distributional space by **counting and filtering** the surface co-occurrences in a symmetric ±5 word collocations span from the following corpus:\n",
        "\n",
        "* A lemmatized version of the Reuters corpus (the choice of the lemmatizer is up to you). For this step, you might need a PoS-tagger: you are welcome to choose one yourself. In case you can't do PoS tagging on your own, you can use the following command to load the provided corpus in `data/reuters.pos` (uploaded as a `.zip` file, so first unzip it):\n",
        "\n",
        "```python\n",
        "with open(\"data/reuters.pos\", \"rb\") as corpus_file:\n",
        "    reuter_PoSTagged = pickle.load(corpus_file)\n",
        "```\n",
        "\n",
        "Remember to make motivated choices for the different strategies in building word vectors as described in class. Be explicit about:\n",
        "\n",
        "1. what lemmas you want to describe (i.e., what will be your target vectors?);\n",
        "2. how you want to describe them (i.e., what will be your contexts?);\n",
        "3. what filtering strategy you are going to choose (i.e., what do you exclude?).\n",
        "\n",
        "That means you should describe these things in text.\n",
        "\n",
        "**Possible extra**\n",
        "\n",
        "Actually create the space with these counts as values (i.e. make a vector with the counts, as in the subsequent questions where we put weighted counts in the vector)."
      ]
    },
    {
      "cell_type": "code",
      "execution_count": null,
      "metadata": {
        "collapsed": true,
        "jupyter": {
          "outputs_hidden": true
        },
        "id": "B_Us7DrPGL20",
        "outputId": "925ebf33-797a-48f3-d888-52909dbb8064"
      },
      "outputs": [
        {
          "name": "stdout",
          "output_type": "stream",
          "text": [
            "            coffee  normal  sells  canadian  situation  production  \\\n",
            "__target__                                                           \n",
            "damage         2.0     2.0    1.0       3.0        2.0         4.0   \n",
            "trade         24.0     2.0    1.0      22.0       10.0         6.0   \n",
            "s            115.0     9.0   26.0     146.0       27.0       258.0   \n",
            "has           42.0     9.0   27.0      24.0       17.0        73.0   \n",
            "raised         0.0     1.0    0.0       4.0        1.0         3.0   \n",
            "\n",
            "            government  special  substantial  proposal  ...  profits  buyout  \\\n",
            "__target__                                              ...                    \n",
            "damage             1.0      1.0          5.0       1.0  ...      0.0     0.0   \n",
            "trade             62.0      7.0          7.0       8.0  ...      0.0     0.0   \n",
            "s                419.0     49.0         25.0     112.0  ...     84.0    16.0   \n",
            "has              142.0     20.0         14.0      35.0  ...     10.0    13.0   \n",
            "raised             7.0      0.0          1.0       1.0  ...      2.0     0.0   \n",
            "\n",
            "             tin  ordinary  dealer     l  trust   div  respectively  refinery  \n",
            "__target__                                                                     \n",
            "damage       0.0       0.0     0.0   0.0    0.0   0.0           0.0       0.0  \n",
            "trade        0.0       0.0     0.0   0.0    0.0   0.0           0.0       0.0  \n",
            "s           20.0       9.0    12.0  19.0   14.0  12.0           5.0      34.0  \n",
            "has         10.0       6.0     7.0   7.0    7.0   0.0           0.0      11.0  \n",
            "raised       1.0       3.0     0.0   5.0    1.0   1.0           1.0       0.0  \n",
            "\n",
            "[5 rows x 1088 columns]\n"
          ]
        }
      ],
      "source": [
        "# 1- we need to load the data\n",
        "import pickle\n",
        "import pandas as pd\n",
        "\n",
        "with open(\"data/reuters.pos\", \"rb\") as corpus_file:\n",
        "    reuters_tagged = pickle.load(corpus_file)\n",
        "\n",
        "# 2- we need to normalize and tokenize the data: convert to lowercase, remove the punctuation and only keep the content words\n",
        "\n",
        "from collections import Counter\n",
        "\n",
        "# define the tags of the content words we want to keep\n",
        "content_pos_tags = {'NN', 'NNS', 'VB', 'VBD', 'VBG', 'VBN', 'VBP', 'VBZ', 'JJ', 'RB'}\n",
        "\n",
        "# normalize and collect the frequency of each lemma\n",
        "normalized_corpus = []\n",
        "lemma_freq = Counter() # count frequencies of each lemma\n",
        "\n",
        "for sentence in reuters_tagged:\n",
        "    clean_sentence = []\n",
        "    for lemma, pos in sentence:\n",
        "        lemma = lemma.lower() # convert to lowercase\n",
        "        # remove punctuation and keep only content words\n",
        "        if lemma.isalpha() and pos in content_pos_tags:\n",
        "            clean_sentence.append((lemma, pos))\n",
        "            lemma_freq[lemma] += 1\n",
        "    normalized_corpus.append(clean_sentence)\n",
        "\n",
        "# 3- count the co-occurrences (5 word window)\n",
        "from collections import defaultdict\n",
        "\n",
        "window_size = 5\n",
        "min_freq = 100 # filter out rare words\n",
        "\n",
        "# select the words that occur at least min_freq=100 times\n",
        "vocab = {lemma for lemma, freq in lemma_freq.items() if freq >= min_freq}\n",
        "\n",
        "# create a dictionary to store the co-occurrences\n",
        "co_occurrences = defaultdict(Counter)\n",
        "\n",
        "# loop through the sentences and count co-occurrences with context words\n",
        "for sentence in normalized_corpus:\n",
        "    for i, (target, pos) in enumerate(sentence):\n",
        "        if target not in vocab:\n",
        "            continue\n",
        "        start = max(0, i - window_size)\n",
        "        end = min(len(sentence), i + window_size + 1)\n",
        "\n",
        "        for j in range(start, end):\n",
        "            if i == j:\n",
        "                continue # skip target word itself\n",
        "            context, context_pos = sentence[j]\n",
        "            if context in vocab:\n",
        "                co_occurrences[target][context] += 1\n",
        "\n",
        "# 4- BONUS: create co-occurrence matrix\n",
        "\n",
        "# collect all contexts and their frequencies\n",
        "all_contexts = Counter()\n",
        "for contexts in co_occurrences.values():\n",
        "    all_contexts.update(contexts)\n",
        "\n",
        "# get the 5000 most common words\n",
        "top_contexts = {context for context, freq in all_contexts.most_common(5000)}\n",
        "\n",
        "# create rows for the matrix: each row is a target word and its context counts\n",
        "rows = []\n",
        "for target in co_occurrences:\n",
        "    row_data = {'__target__': target}\n",
        "    for context in top_contexts:\n",
        "        count = co_occurrences[target][context]\n",
        "        if count > 0:\n",
        "            row_data[context] = count\n",
        "    rows.append(row_data)\n",
        "\n",
        "# create the DataFrame\n",
        "co_occurrence_df = pd.DataFrame(rows).fillna(0).set_index('__target__')\n",
        "print(co_occurrence_df.head())"
      ]
    },
    {
      "cell_type": "markdown",
      "metadata": {
        "id": "wSoKN0FpGL21"
      },
      "source": [
        "In this task, I created a co-occurrence matrix from the reuters corpus following these steps:\n",
        "\n",
        "1. Target words: I chose all the content words (nouns, verbs, adjectives and adverbs) that occur at least 100 times in the corpus. Specifically, I included lemmas tagged with the POS tags: NN, NNS, VB, JJ, RB... These become the target words, which later are the rows of the matrix.\n",
        "\n",
        "2. Context words: I used this same set of content words as possible context words (which are the columns in the matrix). They are extracted within a 5 word symmetric window of the target word. I only considered context words that also occur frequently in the corpus (top 5000 by frequency).\n",
        "\n",
        "3. Filtering criteria: all the lemmas are converted to lowercase; I excluded punctuation, digit and all non-alphabetic tokens. I also removed low frequency words (those with <100 occurrences) to reduce noise, and limited the vocabulary to only the top 5000 most frequent words.\n",
        "\n",
        "The final output is a DataFrame, where each row vector corresponds to a target word and contains the co-occurrence counts with frequent context words."
      ]
    },
    {
      "cell_type": "markdown",
      "metadata": {
        "id": "eTHoEt7hGL21"
      },
      "source": [
        "---"
      ]
    },
    {
      "cell_type": "markdown",
      "metadata": {
        "id": "CqY30sjHGL22"
      },
      "source": [
        "# Vector representations (45 points)"
      ]
    },
    {
      "cell_type": "markdown",
      "metadata": {
        "id": "OfG42_wmGL22"
      },
      "source": [
        "## Question 2 (15 points)\n",
        "\n",
        "Weight the counts in the space you created for the previous question by using the following association measures on both spaces:\n",
        "\n",
        "1. One **measure of your choice** among those available in the [nltk.BigramAssocMeasures](http://www.nltk.org/howto/metrics.html#association-measures) module.\n",
        "2. The **Positive Local Mutual Information** measure (as shown in class/lab).\n",
        "\n",
        "**Possible extra**\n",
        "\n",
        "3. Also use the **smoothed ppmi measure** proposed by [Levy et al. (2015)](http://www.aclweb.org/anthology/Q15-1016). Recall that the authors proposed to smooth the ppmi by raising the context counts to the power of $\\alpha$ (where $\\alpha= 0.75$ is reported to work well). That is, if $V_c$ is the vocabulary of all the contexts in a given space and $f(c)$ is the context frequency, they proposed the following association measure:"
      ]
    },
    {
      "cell_type": "markdown",
      "metadata": {
        "id": "eo5RWsVaGL22"
      },
      "source": [
        "$$PPMI_\\alpha (w,c) = max \\left(0, \\ log_2 \\left(\\frac{p(w,c)}{p(w) \\cdot p_\\alpha(c)}\\right)  \\right) $$"
      ]
    },
    {
      "cell_type": "markdown",
      "metadata": {
        "id": "4lAlzX6uGL22"
      },
      "source": [
        "$$where: \\ \\ p_\\alpha(c) = \\frac{f(c)^\\alpha}{\\sum_{c' \\in V_c} f(c')^\\alpha}$$"
      ]
    },
    {
      "cell_type": "code",
      "execution_count": null,
      "metadata": {
        "id": "05MeW99vGL22",
        "outputId": "a9f2a034-c03d-440d-a2ff-6c096d4a8494"
      },
      "outputs": [
        {
          "data": {
            "text/html": [
              "<div>\n",
              "<style scoped>\n",
              "    .dataframe tbody tr th:only-of-type {\n",
              "        vertical-align: middle;\n",
              "    }\n",
              "\n",
              "    .dataframe tbody tr th {\n",
              "        vertical-align: top;\n",
              "    }\n",
              "\n",
              "    .dataframe thead th {\n",
              "        text-align: right;\n",
              "    }\n",
              "</style>\n",
              "<table border=\"1\" class=\"dataframe\">\n",
              "  <thead>\n",
              "    <tr style=\"text-align: right;\">\n",
              "      <th></th>\n",
              "      <th>coffee</th>\n",
              "      <th>normal</th>\n",
              "      <th>sells</th>\n",
              "      <th>canadian</th>\n",
              "      <th>situation</th>\n",
              "      <th>production</th>\n",
              "      <th>government</th>\n",
              "      <th>special</th>\n",
              "      <th>substantial</th>\n",
              "      <th>proposal</th>\n",
              "    </tr>\n",
              "    <tr>\n",
              "      <th>__target__</th>\n",
              "      <th></th>\n",
              "      <th></th>\n",
              "      <th></th>\n",
              "      <th></th>\n",
              "      <th></th>\n",
              "      <th></th>\n",
              "      <th></th>\n",
              "      <th></th>\n",
              "      <th></th>\n",
              "      <th></th>\n",
              "    </tr>\n",
              "  </thead>\n",
              "  <tbody>\n",
              "    <tr>\n",
              "      <th>damage</th>\n",
              "      <td>1.749543</td>\n",
              "      <td>3.556651</td>\n",
              "      <td>2.604188</td>\n",
              "      <td>2.241087</td>\n",
              "      <td>3.145081</td>\n",
              "      <td>1.19779</td>\n",
              "      <td>0</td>\n",
              "      <td>1.314844</td>\n",
              "      <td>4.480089</td>\n",
              "      <td>0.860614</td>\n",
              "    </tr>\n",
              "    <tr>\n",
              "      <th>trade</th>\n",
              "      <td>0.896424</td>\n",
              "      <td>0</td>\n",
              "      <td>0</td>\n",
              "      <td>0.677475</td>\n",
              "      <td>1.028928</td>\n",
              "      <td>0</td>\n",
              "      <td>0.630917</td>\n",
              "      <td>0</td>\n",
              "      <td>0.527434</td>\n",
              "      <td>0</td>\n",
              "    </tr>\n",
              "    <tr>\n",
              "      <th>s</th>\n",
              "      <td>0.557035</td>\n",
              "      <td>0</td>\n",
              "      <td>0.266628</td>\n",
              "      <td>0.80795</td>\n",
              "      <td>0</td>\n",
              "      <td>0.171018</td>\n",
              "      <td>0.78761</td>\n",
              "      <td>0</td>\n",
              "      <td>0</td>\n",
              "      <td>0.62997</td>\n",
              "    </tr>\n",
              "    <tr>\n",
              "      <th>has</th>\n",
              "      <td>0.750853</td>\n",
              "      <td>0.335568</td>\n",
              "      <td>1.968067</td>\n",
              "      <td>0</td>\n",
              "      <td>0.841537</td>\n",
              "      <td>0</td>\n",
              "      <td>0.873542</td>\n",
              "      <td>0.245764</td>\n",
              "      <td>0.574508</td>\n",
              "      <td>0.59889</td>\n",
              "    </tr>\n",
              "    <tr>\n",
              "      <th>raised</th>\n",
              "      <td>0</td>\n",
              "      <td>0.626491</td>\n",
              "      <td>0</td>\n",
              "      <td>0.725964</td>\n",
              "      <td>0.214921</td>\n",
              "      <td>0</td>\n",
              "      <td>0</td>\n",
              "      <td>0</td>\n",
              "      <td>0.228001</td>\n",
              "      <td>0</td>\n",
              "    </tr>\n",
              "    <tr>\n",
              "      <th>many</th>\n",
              "      <td>0.830971</td>\n",
              "      <td>0</td>\n",
              "      <td>0</td>\n",
              "      <td>0</td>\n",
              "      <td>0</td>\n",
              "      <td>0.694255</td>\n",
              "      <td>0.19623</td>\n",
              "      <td>0</td>\n",
              "      <td>0</td>\n",
              "      <td>0</td>\n",
              "    </tr>\n",
              "    <tr>\n",
              "      <th>nations</th>\n",
              "      <td>1.398012</td>\n",
              "      <td>0</td>\n",
              "      <td>0</td>\n",
              "      <td>0</td>\n",
              "      <td>0.208587</td>\n",
              "      <td>0</td>\n",
              "      <td>0</td>\n",
              "      <td>0.378349</td>\n",
              "      <td>1.221667</td>\n",
              "      <td>0</td>\n",
              "    </tr>\n",
              "    <tr>\n",
              "      <th>far</th>\n",
              "      <td>0.282137</td>\n",
              "      <td>1.089244</td>\n",
              "      <td>0</td>\n",
              "      <td>0.773681</td>\n",
              "      <td>0</td>\n",
              "      <td>0</td>\n",
              "      <td>0.647396</td>\n",
              "      <td>0</td>\n",
              "      <td>0</td>\n",
              "      <td>0</td>\n",
              "    </tr>\n",
              "    <tr>\n",
              "      <th>economic</th>\n",
              "      <td>0</td>\n",
              "      <td>0</td>\n",
              "      <td>0</td>\n",
              "      <td>0</td>\n",
              "      <td>3.205259</td>\n",
              "      <td>0</td>\n",
              "      <td>1.940515</td>\n",
              "      <td>0</td>\n",
              "      <td>1.633376</td>\n",
              "      <td>0</td>\n",
              "    </tr>\n",
              "    <tr>\n",
              "      <th>officials</th>\n",
              "      <td>0</td>\n",
              "      <td>0</td>\n",
              "      <td>0</td>\n",
              "      <td>1.592814</td>\n",
              "      <td>1.274416</td>\n",
              "      <td>0</td>\n",
              "      <td>2.619177</td>\n",
              "      <td>0</td>\n",
              "      <td>0</td>\n",
              "      <td>0</td>\n",
              "    </tr>\n",
              "  </tbody>\n",
              "</table>\n",
              "</div>"
            ],
            "text/plain": [
              "              coffee    normal     sells  canadian situation production  \\\n",
              "__target__                                                                \n",
              "damage      1.749543  3.556651  2.604188  2.241087  3.145081    1.19779   \n",
              "trade       0.896424         0         0  0.677475  1.028928          0   \n",
              "s           0.557035         0  0.266628   0.80795         0   0.171018   \n",
              "has         0.750853  0.335568  1.968067         0  0.841537          0   \n",
              "raised             0  0.626491         0  0.725964  0.214921          0   \n",
              "many        0.830971         0         0         0         0   0.694255   \n",
              "nations     1.398012         0         0         0  0.208587          0   \n",
              "far         0.282137  1.089244         0  0.773681         0          0   \n",
              "economic           0         0         0         0  3.205259          0   \n",
              "officials          0         0         0  1.592814  1.274416          0   \n",
              "\n",
              "           government   special substantial  proposal  \n",
              "__target__                                             \n",
              "damage              0  1.314844    4.480089  0.860614  \n",
              "trade        0.630917         0    0.527434         0  \n",
              "s             0.78761         0           0   0.62997  \n",
              "has          0.873542  0.245764    0.574508   0.59889  \n",
              "raised              0         0    0.228001         0  \n",
              "many          0.19623         0           0         0  \n",
              "nations             0  0.378349    1.221667         0  \n",
              "far          0.647396         0           0         0  \n",
              "economic     1.940515         0    1.633376         0  \n",
              "officials    2.619177         0           0         0  "
            ]
          },
          "execution_count": 21,
          "metadata": {},
          "output_type": "execute_result"
        }
      ],
      "source": [
        "from nltk.collocations import BigramAssocMeasures\n",
        "import numpy as np\n",
        "import pandas as pd\n",
        "\n",
        "X_counts = co_occurrence_df  # our co-occurrence matrix\n",
        "\n",
        "bam = BigramAssocMeasures() # to calculate statistical measures\n",
        "\n",
        "# get frequencies\n",
        "N = X_counts.values.sum()    # total number of co-occurrences\n",
        "f_w = X_counts.sum(axis=1)   # occurrences of each word (row)\n",
        "f_c = X_counts.sum(axis=0)   # occurrences of each context (column)\n",
        "\n",
        "# initialize new empty matrix of same shape as the original to store PMI values\n",
        "pmi_df = pd.DataFrame(index=X_counts.index, columns=X_counts.columns)\n",
        "\n",
        "# double loop over every (target, context) pair in the co-occurrence matrix\n",
        "for w in X_counts.index:\n",
        "    for c in X_counts.columns:\n",
        "        f_wc = X_counts.at[w, c]\n",
        "        if f_wc == 0: # if the pair never co-occurred, set PMI to 0\n",
        "            pmi_df.at[w, c] = 0\n",
        "            continue\n",
        "        n_w = f_w[w] # compute PMI using NLTK's formula\n",
        "        n_c = f_c[c]\n",
        "        pmi = bam.pmi(int(f_wc), (int(n_w), int(n_c)), int(N))\n",
        "        pmi_df.at[w, c] = max(0, pmi)  # convert to positive PMI, which is PPMI\n",
        "\n",
        "pmi_df.iloc[:10, :10]"
      ]
    },
    {
      "cell_type": "markdown",
      "metadata": {
        "id": "Gzi9gYfHGL22"
      },
      "source": [
        "To weight the co-occurrence matrix, I chose PMI. It highlights word-context pairs that occur more often than expected by chance, which is useful for capturing relevant associations. Then I applied PPMI by setting negative values to 0 to reduce noise and focus on informative co-occurrences.\n",
        "The code loops over each target-context pair, retrieves their co-occurrence and marginal frequencies, and computes the PMI score using NLTK’s built-in function. The result is a new matrix where each value reflects how unexpectedly often two words co-occur. Observing the results of the matrix, the output makes sense since, for instance, we can see a high score of 4.6 between the words \"damage\" and \"weather\" However, we can see the value 0 when it comes to the relation between the words \"trade\" and \"weather\", meaning either they did not co-occur (most likely in my opinion), or they did not co-occur more than expected."
      ]
    },
    {
      "cell_type": "code",
      "execution_count": null,
      "metadata": {
        "id": "CqgWYCWaGL23",
        "outputId": "31247e00-312d-426e-9374-283b989cb9da"
      },
      "outputs": [
        {
          "name": "stderr",
          "output_type": "stream",
          "text": [
            "c:\\Users\\anasi\\anaconda\\Lib\\site-packages\\pandas\\core\\internals\\blocks.py:393: RuntimeWarning: divide by zero encountered in log2\n",
            "  result = func(self.values, **kwargs)\n"
          ]
        },
        {
          "data": {
            "text/html": [
              "<div>\n",
              "<style scoped>\n",
              "    .dataframe tbody tr th:only-of-type {\n",
              "        vertical-align: middle;\n",
              "    }\n",
              "\n",
              "    .dataframe tbody tr th {\n",
              "        vertical-align: top;\n",
              "    }\n",
              "\n",
              "    .dataframe thead th {\n",
              "        text-align: right;\n",
              "    }\n",
              "</style>\n",
              "<table border=\"1\" class=\"dataframe\">\n",
              "  <thead>\n",
              "    <tr style=\"text-align: right;\">\n",
              "      <th></th>\n",
              "      <th>coffee</th>\n",
              "      <th>normal</th>\n",
              "      <th>sells</th>\n",
              "      <th>canadian</th>\n",
              "      <th>situation</th>\n",
              "      <th>production</th>\n",
              "      <th>government</th>\n",
              "      <th>special</th>\n",
              "      <th>substantial</th>\n",
              "      <th>proposal</th>\n",
              "    </tr>\n",
              "    <tr>\n",
              "      <th>__target__</th>\n",
              "      <th></th>\n",
              "      <th></th>\n",
              "      <th></th>\n",
              "      <th></th>\n",
              "      <th></th>\n",
              "      <th></th>\n",
              "      <th></th>\n",
              "      <th></th>\n",
              "      <th></th>\n",
              "      <th></th>\n",
              "    </tr>\n",
              "  </thead>\n",
              "  <tbody>\n",
              "    <tr>\n",
              "      <th>damage</th>\n",
              "      <td>3.499087</td>\n",
              "      <td>7.113302</td>\n",
              "      <td>2.604188</td>\n",
              "      <td>6.723262</td>\n",
              "      <td>6.290163</td>\n",
              "      <td>4.791160</td>\n",
              "      <td>0.000000</td>\n",
              "      <td>1.314844</td>\n",
              "      <td>22.400447</td>\n",
              "      <td>0.860614</td>\n",
              "    </tr>\n",
              "    <tr>\n",
              "      <th>trade</th>\n",
              "      <td>21.514179</td>\n",
              "      <td>0.000000</td>\n",
              "      <td>0.000000</td>\n",
              "      <td>14.904440</td>\n",
              "      <td>10.289277</td>\n",
              "      <td>0.000000</td>\n",
              "      <td>39.116869</td>\n",
              "      <td>0.000000</td>\n",
              "      <td>3.692041</td>\n",
              "      <td>0.000000</td>\n",
              "    </tr>\n",
              "    <tr>\n",
              "      <th>s</th>\n",
              "      <td>64.058985</td>\n",
              "      <td>0.000000</td>\n",
              "      <td>6.932340</td>\n",
              "      <td>117.960768</td>\n",
              "      <td>0.000000</td>\n",
              "      <td>44.122753</td>\n",
              "      <td>330.008730</td>\n",
              "      <td>0.000000</td>\n",
              "      <td>0.000000</td>\n",
              "      <td>70.556688</td>\n",
              "    </tr>\n",
              "    <tr>\n",
              "      <th>has</th>\n",
              "      <td>31.535831</td>\n",
              "      <td>3.020114</td>\n",
              "      <td>53.137818</td>\n",
              "      <td>0.000000</td>\n",
              "      <td>14.306121</td>\n",
              "      <td>0.000000</td>\n",
              "      <td>124.042981</td>\n",
              "      <td>4.915281</td>\n",
              "      <td>8.043118</td>\n",
              "      <td>20.961137</td>\n",
              "    </tr>\n",
              "    <tr>\n",
              "      <th>raised</th>\n",
              "      <td>0.000000</td>\n",
              "      <td>0.626491</td>\n",
              "      <td>0.000000</td>\n",
              "      <td>2.903858</td>\n",
              "      <td>0.214921</td>\n",
              "      <td>0.000000</td>\n",
              "      <td>0.000000</td>\n",
              "      <td>0.000000</td>\n",
              "      <td>0.228001</td>\n",
              "      <td>0.000000</td>\n",
              "    </tr>\n",
              "    <tr>\n",
              "      <th>many</th>\n",
              "      <td>2.492913</td>\n",
              "      <td>0.000000</td>\n",
              "      <td>0.000000</td>\n",
              "      <td>0.000000</td>\n",
              "      <td>0.000000</td>\n",
              "      <td>5.554041</td>\n",
              "      <td>1.177382</td>\n",
              "      <td>0.000000</td>\n",
              "      <td>0.000000</td>\n",
              "      <td>0.000000</td>\n",
              "    </tr>\n",
              "    <tr>\n",
              "      <th>nations</th>\n",
              "      <td>8.388070</td>\n",
              "      <td>0.000000</td>\n",
              "      <td>0.000000</td>\n",
              "      <td>0.000000</td>\n",
              "      <td>0.208587</td>\n",
              "      <td>0.000000</td>\n",
              "      <td>0.000000</td>\n",
              "      <td>0.756699</td>\n",
              "      <td>2.443334</td>\n",
              "      <td>0.000000</td>\n",
              "    </tr>\n",
              "    <tr>\n",
              "      <th>far</th>\n",
              "      <td>0.564273</td>\n",
              "      <td>1.089244</td>\n",
              "      <td>0.000000</td>\n",
              "      <td>2.321042</td>\n",
              "      <td>0.000000</td>\n",
              "      <td>0.000000</td>\n",
              "      <td>5.179168</td>\n",
              "      <td>0.000000</td>\n",
              "      <td>0.000000</td>\n",
              "      <td>0.000000</td>\n",
              "    </tr>\n",
              "    <tr>\n",
              "      <th>economic</th>\n",
              "      <td>0.000000</td>\n",
              "      <td>0.000000</td>\n",
              "      <td>0.000000</td>\n",
              "      <td>0.000000</td>\n",
              "      <td>48.078879</td>\n",
              "      <td>0.000000</td>\n",
              "      <td>98.966247</td>\n",
              "      <td>0.000000</td>\n",
              "      <td>8.166880</td>\n",
              "      <td>0.000000</td>\n",
              "    </tr>\n",
              "    <tr>\n",
              "      <th>officials</th>\n",
              "      <td>0.000000</td>\n",
              "      <td>0.000000</td>\n",
              "      <td>0.000000</td>\n",
              "      <td>22.299400</td>\n",
              "      <td>5.097664</td>\n",
              "      <td>0.000000</td>\n",
              "      <td>217.391671</td>\n",
              "      <td>0.000000</td>\n",
              "      <td>0.000000</td>\n",
              "      <td>0.000000</td>\n",
              "    </tr>\n",
              "  </tbody>\n",
              "</table>\n",
              "</div>"
            ],
            "text/plain": [
              "               coffee    normal      sells    canadian  situation  production  \\\n",
              "__target__                                                                      \n",
              "damage       3.499087  7.113302   2.604188    6.723262   6.290163    4.791160   \n",
              "trade       21.514179  0.000000   0.000000   14.904440  10.289277    0.000000   \n",
              "s           64.058985  0.000000   6.932340  117.960768   0.000000   44.122753   \n",
              "has         31.535831  3.020114  53.137818    0.000000  14.306121    0.000000   \n",
              "raised       0.000000  0.626491   0.000000    2.903858   0.214921    0.000000   \n",
              "many         2.492913  0.000000   0.000000    0.000000   0.000000    5.554041   \n",
              "nations      8.388070  0.000000   0.000000    0.000000   0.208587    0.000000   \n",
              "far          0.564273  1.089244   0.000000    2.321042   0.000000    0.000000   \n",
              "economic     0.000000  0.000000   0.000000    0.000000  48.078879    0.000000   \n",
              "officials    0.000000  0.000000   0.000000   22.299400   5.097664    0.000000   \n",
              "\n",
              "            government   special  substantial   proposal  \n",
              "__target__                                                \n",
              "damage        0.000000  1.314844    22.400447   0.860614  \n",
              "trade        39.116869  0.000000     3.692041   0.000000  \n",
              "s           330.008730  0.000000     0.000000  70.556688  \n",
              "has         124.042981  4.915281     8.043118  20.961137  \n",
              "raised        0.000000  0.000000     0.228001   0.000000  \n",
              "many          1.177382  0.000000     0.000000   0.000000  \n",
              "nations       0.000000  0.756699     2.443334   0.000000  \n",
              "far           5.179168  0.000000     0.000000   0.000000  \n",
              "economic     98.966247  0.000000     8.166880   0.000000  \n",
              "officials   217.391671  0.000000     0.000000   0.000000  "
            ]
          },
          "execution_count": 22,
          "metadata": {},
          "output_type": "execute_result"
        }
      ],
      "source": [
        "# Probabilities\n",
        "# joint probability p(w, c)\n",
        "p_wc = X_counts / N\n",
        "# marginal probabilities p(w) and p(c)\n",
        "p_w = f_w / N\n",
        "p_c = f_c / N\n",
        "\n",
        "# compute denominator for each pair using outer product\n",
        "denom = np.outer(p_w, p_c)\n",
        "# compute PMI using formula shown by exercise\n",
        "pmi_matrix = np.log2(p_wc / denom)\n",
        "\n",
        "# replace invalid values with 0 and clip all negative values to 0\n",
        "pmi_matrix = np.nan_to_num(pmi_matrix, nan=0.0, neginf=0.0)\n",
        "pmi_matrix = np.maximum(pmi_matrix, 0)\n",
        "\n",
        "# multiply PPMI * count f(w, c) to get PLMI\n",
        "plmi_matrix = pmi_matrix * X_counts.values\n",
        "\n",
        "# convert to DataFrame\n",
        "plmi_df = pd.DataFrame(plmi_matrix, index=X_counts.index, columns=X_counts.columns)\n",
        "\n",
        "plmi_df.iloc[:10, :10]"
      ]
    },
    {
      "cell_type": "markdown",
      "metadata": {
        "id": "ow8d_zpmGL23"
      },
      "source": [
        "In this part I computed the PLMI, which measures the weights of each of the word pairs keeping in mind how informative they are and its frequency. PLMI not only captures how strong the association between two words is but also how reliable the association is based on how often it occurs.\n",
        "To compute the PLMI I first computed the joint and marginal probabilities of each pair (word, context), used it to calculate the PPMI of each pair and multiplied the PPMI values by the corresponding co-occurrence counts to get the PLMI scores. Now the matrix reflects both the strength and frequency of the associations between words and their contexts. For instance, the words \"has\" and \"said\" with a rate of 1341.27 shows the words are very frequent and semantically related, in comparison to \"damage\" and \"weather\" which is much less frequent than others"
      ]
    },
    {
      "cell_type": "code",
      "execution_count": null,
      "metadata": {
        "id": "gCCXHmHTGL23",
        "outputId": "dae5181a-c99c-41c0-9357-c077c50b5963"
      },
      "outputs": [
        {
          "name": "stderr",
          "output_type": "stream",
          "text": [
            "c:\\Users\\anasi\\anaconda\\Lib\\site-packages\\pandas\\core\\internals\\blocks.py:393: RuntimeWarning: divide by zero encountered in log2\n",
            "  result = func(self.values, **kwargs)\n"
          ]
        },
        {
          "data": {
            "text/html": [
              "<div>\n",
              "<style scoped>\n",
              "    .dataframe tbody tr th:only-of-type {\n",
              "        vertical-align: middle;\n",
              "    }\n",
              "\n",
              "    .dataframe tbody tr th {\n",
              "        vertical-align: top;\n",
              "    }\n",
              "\n",
              "    .dataframe thead th {\n",
              "        text-align: right;\n",
              "    }\n",
              "</style>\n",
              "<table border=\"1\" class=\"dataframe\">\n",
              "  <thead>\n",
              "    <tr style=\"text-align: right;\">\n",
              "      <th></th>\n",
              "      <th>coffee</th>\n",
              "      <th>normal</th>\n",
              "      <th>sells</th>\n",
              "      <th>canadian</th>\n",
              "      <th>situation</th>\n",
              "      <th>production</th>\n",
              "      <th>government</th>\n",
              "      <th>special</th>\n",
              "      <th>substantial</th>\n",
              "      <th>proposal</th>\n",
              "    </tr>\n",
              "    <tr>\n",
              "      <th>__target__</th>\n",
              "      <th></th>\n",
              "      <th></th>\n",
              "      <th></th>\n",
              "      <th></th>\n",
              "      <th></th>\n",
              "      <th></th>\n",
              "      <th></th>\n",
              "      <th></th>\n",
              "      <th></th>\n",
              "      <th></th>\n",
              "    </tr>\n",
              "  </thead>\n",
              "  <tbody>\n",
              "    <tr>\n",
              "      <th>damage</th>\n",
              "      <td>1.524641</td>\n",
              "      <td>2.879971</td>\n",
              "      <td>1.915624</td>\n",
              "      <td>2.039539</td>\n",
              "      <td>2.571294</td>\n",
              "      <td>1.360826</td>\n",
              "      <td>0.000000</td>\n",
              "      <td>0.948616</td>\n",
              "      <td>3.903032</td>\n",
              "      <td>0.607944</td>\n",
              "    </tr>\n",
              "    <tr>\n",
              "      <th>trade</th>\n",
              "      <td>0.671521</td>\n",
              "      <td>0.000000</td>\n",
              "      <td>0.000000</td>\n",
              "      <td>0.475926</td>\n",
              "      <td>0.455140</td>\n",
              "      <td>0.000000</td>\n",
              "      <td>0.814700</td>\n",
              "      <td>0.000000</td>\n",
              "      <td>0.000000</td>\n",
              "      <td>0.000000</td>\n",
              "    </tr>\n",
              "    <tr>\n",
              "      <th>s</th>\n",
              "      <td>0.332132</td>\n",
              "      <td>0.000000</td>\n",
              "      <td>0.000000</td>\n",
              "      <td>0.606402</td>\n",
              "      <td>0.000000</td>\n",
              "      <td>0.334054</td>\n",
              "      <td>0.971393</td>\n",
              "      <td>0.000000</td>\n",
              "      <td>0.000000</td>\n",
              "      <td>0.377300</td>\n",
              "    </tr>\n",
              "    <tr>\n",
              "      <th>has</th>\n",
              "      <td>0.525950</td>\n",
              "      <td>0.000000</td>\n",
              "      <td>1.279503</td>\n",
              "      <td>0.000000</td>\n",
              "      <td>0.267749</td>\n",
              "      <td>0.159642</td>\n",
              "      <td>1.057324</td>\n",
              "      <td>0.000000</td>\n",
              "      <td>0.000000</td>\n",
              "      <td>0.346219</td>\n",
              "    </tr>\n",
              "    <tr>\n",
              "      <th>raised</th>\n",
              "      <td>0.000000</td>\n",
              "      <td>0.000000</td>\n",
              "      <td>0.000000</td>\n",
              "      <td>0.524416</td>\n",
              "      <td>0.000000</td>\n",
              "      <td>0.000000</td>\n",
              "      <td>0.175780</td>\n",
              "      <td>0.000000</td>\n",
              "      <td>0.000000</td>\n",
              "      <td>0.000000</td>\n",
              "    </tr>\n",
              "    <tr>\n",
              "      <th>many</th>\n",
              "      <td>0.606068</td>\n",
              "      <td>0.000000</td>\n",
              "      <td>0.000000</td>\n",
              "      <td>0.000000</td>\n",
              "      <td>0.000000</td>\n",
              "      <td>0.857291</td>\n",
              "      <td>0.380013</td>\n",
              "      <td>0.000000</td>\n",
              "      <td>0.000000</td>\n",
              "      <td>0.000000</td>\n",
              "    </tr>\n",
              "    <tr>\n",
              "      <th>nations</th>\n",
              "      <td>1.173109</td>\n",
              "      <td>0.000000</td>\n",
              "      <td>0.000000</td>\n",
              "      <td>0.000000</td>\n",
              "      <td>0.000000</td>\n",
              "      <td>0.000000</td>\n",
              "      <td>0.000000</td>\n",
              "      <td>0.012121</td>\n",
              "      <td>0.644610</td>\n",
              "      <td>0.000000</td>\n",
              "    </tr>\n",
              "    <tr>\n",
              "      <th>far</th>\n",
              "      <td>0.057234</td>\n",
              "      <td>0.412564</td>\n",
              "      <td>0.000000</td>\n",
              "      <td>0.572132</td>\n",
              "      <td>0.000000</td>\n",
              "      <td>0.000000</td>\n",
              "      <td>0.831178</td>\n",
              "      <td>0.000000</td>\n",
              "      <td>0.000000</td>\n",
              "      <td>0.000000</td>\n",
              "    </tr>\n",
              "    <tr>\n",
              "      <th>economic</th>\n",
              "      <td>0.000000</td>\n",
              "      <td>0.000000</td>\n",
              "      <td>0.000000</td>\n",
              "      <td>0.000000</td>\n",
              "      <td>2.631471</td>\n",
              "      <td>0.000000</td>\n",
              "      <td>2.124297</td>\n",
              "      <td>0.000000</td>\n",
              "      <td>1.056319</td>\n",
              "      <td>0.000000</td>\n",
              "    </tr>\n",
              "    <tr>\n",
              "      <th>officials</th>\n",
              "      <td>0.000000</td>\n",
              "      <td>0.000000</td>\n",
              "      <td>0.000000</td>\n",
              "      <td>1.391266</td>\n",
              "      <td>0.700629</td>\n",
              "      <td>0.000000</td>\n",
              "      <td>2.802959</td>\n",
              "      <td>0.000000</td>\n",
              "      <td>0.000000</td>\n",
              "      <td>0.000000</td>\n",
              "    </tr>\n",
              "  </tbody>\n",
              "</table>\n",
              "</div>"
            ],
            "text/plain": [
              "              coffee    normal     sells  canadian  situation  production  \\\n",
              "__target__                                                                  \n",
              "damage      1.524641  2.879971  1.915624  2.039539   2.571294    1.360826   \n",
              "trade       0.671521  0.000000  0.000000  0.475926   0.455140    0.000000   \n",
              "s           0.332132  0.000000  0.000000  0.606402   0.000000    0.334054   \n",
              "has         0.525950  0.000000  1.279503  0.000000   0.267749    0.159642   \n",
              "raised      0.000000  0.000000  0.000000  0.524416   0.000000    0.000000   \n",
              "many        0.606068  0.000000  0.000000  0.000000   0.000000    0.857291   \n",
              "nations     1.173109  0.000000  0.000000  0.000000   0.000000    0.000000   \n",
              "far         0.057234  0.412564  0.000000  0.572132   0.000000    0.000000   \n",
              "economic    0.000000  0.000000  0.000000  0.000000   2.631471    0.000000   \n",
              "officials   0.000000  0.000000  0.000000  1.391266   0.700629    0.000000   \n",
              "\n",
              "            government   special  substantial  proposal  \n",
              "__target__                                               \n",
              "damage        0.000000  0.948616     3.903032  0.607944  \n",
              "trade         0.814700  0.000000     0.000000  0.000000  \n",
              "s             0.971393  0.000000     0.000000  0.377300  \n",
              "has           1.057324  0.000000     0.000000  0.346219  \n",
              "raised        0.175780  0.000000     0.000000  0.000000  \n",
              "many          0.380013  0.000000     0.000000  0.000000  \n",
              "nations       0.000000  0.012121     0.644610  0.000000  \n",
              "far           0.831178  0.000000     0.000000  0.000000  \n",
              "economic      2.124297  0.000000     1.056319  0.000000  \n",
              "officials     2.802959  0.000000     0.000000  0.000000  "
            ]
          },
          "execution_count": 23,
          "metadata": {},
          "output_type": "execute_result"
        }
      ],
      "source": [
        "# EXTRA\n",
        "\n",
        "alpha = 0.75\n",
        "\n",
        "# Smoothed context probability\n",
        "f_c_alpha = f_c ** alpha\n",
        "p_c_alpha = f_c_alpha / f_c_alpha.sum()\n",
        "\n",
        "# Outer product of p(w) and p(c)^alpha\n",
        "denom_smooth = np.outer(p_w, p_c_alpha)\n",
        "\n",
        "# Smoothed PMI\n",
        "smoothed_ppmi_matrix = np.log2(p_wc / denom_smooth)\n",
        "smoothed_ppmi_matrix = np.nan_to_num(smoothed_ppmi_matrix, nan=0.0, neginf=0.0)\n",
        "smoothed_ppmi_matrix = np.maximum(smoothed_ppmi_matrix, 0)\n",
        "\n",
        "smoothed_ppmi_df = pd.DataFrame(smoothed_ppmi_matrix, index=X_counts.index, columns=X_counts.columns)\n",
        "\n",
        "smoothed_ppmi_df.iloc[:10, :10]"
      ]
    },
    {
      "cell_type": "markdown",
      "metadata": {
        "id": "gf494gjvGL24"
      },
      "source": [
        "I implemented smoothed PPMI, which reduces the influence of high-frequency context words by raising their frequencies to the power of alpha=0.75. I first adjusted the context probabilities, used them to compute PMI and finally clipped negative values to obtain the smoothed PPMI. The matrix still captures strong associations, but in a more managed way. For instance, \"damage\" and \"weather\" remains a strong pair, while some pairs that involve very frequent words like \"said\" had very low PPMI (near 0) and now seem boosted, which might be due to the change of frequency ratios when smoothing."
      ]
    },
    {
      "cell_type": "markdown",
      "metadata": {
        "id": "Yo4484zVGL24"
      },
      "source": [
        "## Question 3 (15 points)\n",
        "\n",
        "Up to this point, you should have created 2 different distributional spaces (4 if you did the extras).\n",
        "\n",
        "Use **Singular Value Decomposition** to reduce their dimensionality retaining only the first 100 dimensions. For this question, you can either re-use the SVD code from the lab, or import the SVD functions from external libraries such as [sklearn](https://scikit-learn.org/stable/modules/generated/sklearn.decomposition.TruncatedSVD.html) or [scipy](https://docs.scipy.org/doc/scipy/reference/generated/scipy.linalg.svd.html).\n",
        "\n",
        "**Possible extra**\n",
        "\n",
        "Find the 'optimal' number of dimensions to retain using the approach shown in the lab. Use a model with this dimensionality instead of 100."
      ]
    },
    {
      "cell_type": "code",
      "execution_count": null,
      "metadata": {
        "id": "oRsxRl0sGL24"
      },
      "outputs": [],
      "source": [
        "from sklearn.decomposition import TruncatedSVD\n",
        "import pandas as pd\n",
        "\n",
        "# Reduce smoothed PPMI\n",
        "svd_100 = TruncatedSVD(n_components=100, random_state=42) # reduce smoothed PPMI to 100 dimensions\n",
        "space_1_reduced = svd_100.fit_transform(smoothed_ppmi_df) # apply SVD to smoothed PPMI matrix\n",
        "space_1_reduced_df = pd.DataFrame(space_1_reduced, index=smoothed_ppmi_df.index) # output in DataFrame\n",
        "\n",
        "# Reduce PLMI, same steps as above\n",
        "space_2_reduced = svd_100.fit_transform(plmi_df)\n",
        "space_2_reduced_df = pd.DataFrame(space_2_reduced, index=plmi_df.index)\n"
      ]
    },
    {
      "cell_type": "code",
      "execution_count": null,
      "metadata": {
        "id": "tJux_eIgGL24",
        "outputId": "812243be-e46f-46a7-87fa-90126585b32c"
      },
      "outputs": [
        {
          "data": {
            "image/png": "[encoded data removed]",
            "text/plain": [
              "<Figure size 800x500 with 1 Axes>"
            ]
          },
          "metadata": {},
          "output_type": "display_data"
        }
      ],
      "source": [
        "import numpy as np\n",
        "import matplotlib.pyplot as plt\n",
        "\n",
        "# 1. convert DataFrame to matrix\n",
        "X = smoothed_ppmi_df.values\n",
        "\n",
        "# 2. compute SVD\n",
        "U, s, Vt = np.linalg.svd(X, full_matrices=False)\n",
        "\n",
        "# 3. compute relative variance\n",
        "rel_variance = (s**2 / np.sum(s**2)) * 100  # variance per component\n",
        "\n",
        "# plot variance explained by each singular value\n",
        "plt.figure(figsize=(8, 5))\n",
        "plt.plot(np.arange(len(rel_variance)), rel_variance, linestyle='-', marker='.')\n",
        "plt.xlabel(\"Components\")\n",
        "plt.ylabel(\"Relative variance (%)\")\n",
        "plt.title(\"Relative variance per component\")\n",
        "plt.grid(True)\n",
        "plt.show()\n"
      ]
    },
    {
      "cell_type": "markdown",
      "metadata": {
        "id": "QKmhEvR6GL25"
      },
      "source": [
        "I used SVD to reduce the size of the smoothed PPMI and PLMI word spaces, keeping only the first 100 dimensions. This helps keep the important meaning-related information while making the data smaller and easier to work with.\n",
        "\n",
        "As an extra step, I also looked at how much information each component keeps. The plot shows that the first few components carry most of the information, and after around 300 components, adding more doesn't help much.\n",
        "\n",
        "Based on the variance plot, I would select between 150 and 200 components as a more optimal dimensionality, since they retain over 90% of the total variance. I would use this number instead of 100 for a better information preservation."
      ]
    },
    {
      "cell_type": "markdown",
      "metadata": {
        "id": "7T5OYW3cGL25"
      },
      "source": [
        "## Question 4 (15 points)\n",
        "\n",
        "Train a Word2Vec model the same corpus, for example using [gensim](https://radimrehurek.com/gensim). Make sure to motivate the choice of your hyperparameters.\n",
        "\n",
        "**Possible extra**\n",
        "\n",
        "*Hyperparameter tuning* is the process of finding the optimal hyperparameters in a machine learning task for a given task and data set. Try performing some kind of hyperparameter tuning on your Word2Vec model. Hint: Do this after question 5, so that you'll have a way to know what hyperparameter combination is best."
      ]
    },
    {
      "cell_type": "code",
      "execution_count": null,
      "metadata": {
        "id": "6AweI_a-GL25",
        "outputId": "e34630c4-6739-4369-c0ae-2a1d7d78a5ee"
      },
      "outputs": [
        {
          "name": "stdout",
          "output_type": "stream",
          "text": [
            "[-0.0027309  -0.23015895  0.06490087 -0.09119755  0.41850907 -0.1405846\n",
            " -0.07357531  0.6435993  -0.1137935   0.23384392 -0.47688642  0.42760366\n",
            "  0.10748001  0.37605035  0.54799885  0.4751889   0.40182313 -0.7304714\n",
            "  0.17948683 -0.19387305  0.3788905  -0.04948162 -0.44838205 -0.15836573\n",
            " -0.68925077  0.37032694  0.02087655  0.05541996 -0.0564388   0.6071618\n",
            "  0.67176867  0.4548308  -0.52643126 -0.8874347  -0.33356878 -0.22613895\n",
            "  0.3145475   0.1849813  -0.6066289  -0.25344     0.42154318  0.38592744\n",
            "  0.13599543 -0.46362475  0.33251035  0.1575175  -0.20646788 -0.338457\n",
            "  0.5258978   0.26241127 -0.03505587 -0.3595145  -0.07609449  0.31590527\n",
            " -0.01527201  0.32237622  0.11405778  0.7320819  -0.02214464  0.05012696\n",
            " -0.34339246 -0.370626   -0.42139286  0.3072423   0.04431188  0.2920223\n",
            "  0.23481877  0.15930411  0.367581    0.5586009  -0.12042721  0.15778694\n",
            " -0.3006362  -0.10538536  0.35072356 -0.33996445 -0.00934026 -0.15230156\n",
            " -0.14036144 -0.13443537 -0.5893047  -0.21698286 -0.34961802  0.58362\n",
            " -0.11435822  0.0788784  -0.9287955   0.43620005 -0.43437558  0.4765126\n",
            "  0.20863652 -0.19939242  0.1459148  -0.35490537  0.20910414  0.9634527\n",
            "  0.6178518   0.0966201  -0.2654678  -0.01504021]\n",
            "[('protectionist', 0.6289639472961426), ('imbalance', 0.5902258157730103), ('bilateral', 0.587556779384613), ('tensions', 0.571524441242218), ('narrows', 0.5676989555358887), ('israeli', 0.564736545085907), ('lopsided', 0.5543032884597778), ('redress', 0.5519504547119141), ('practices', 0.5482426285743713), ('narrowed', 0.5446590185165405)]\n"
          ]
        }
      ],
      "source": [
        "from gensim.models import Word2Vec\n",
        "\n",
        "# Extract the lemmas from the Reuters corpus, gives list of tokenized sentences\n",
        "tokenized_sentences = [\n",
        "    [lemma for lemma, _ in sentence]\n",
        "    for sentence in normalized_corpus\n",
        "]\n",
        "\n",
        "# Create the Word2Vec model, these are the parameters we will use:\n",
        "vector_size = 100\n",
        "window = 5\n",
        "min_count = 5\n",
        "workers = 4\n",
        "sg = 1\n",
        "epochs = 10\n",
        "\n",
        "# Train model\n",
        "w2v_model = Word2Vec(\n",
        "    sentences=tokenized_sentences,\n",
        "    vector_size=vector_size,\n",
        "    window=window,\n",
        "    min_count=min_count,\n",
        "    workers=workers,\n",
        "    sg=sg,\n",
        "    epochs=epochs\n",
        ")\n",
        "word_vectors = w2v_model.wv\n",
        "\n",
        "# Showing an example word and its vector\n",
        "print(word_vectors['trade'])\n",
        "print(word_vectors.most_similar('trade')) # 10 most similar words\n"
      ]
    },
    {
      "cell_type": "markdown",
      "metadata": {
        "id": "UskeLJTDGL26"
      },
      "source": [
        "I trained the Word2Vec model with these hyperparameters:\n",
        "\n",
        "- vector_size=100: number of dimensions for each word vector. I chose 100 because it's a common size that gives good results and keeps the model efficient.\n",
        "\n",
        "- window=5: how many words before and after the target word are considered as context. I used 5 to match the window used in my previous models.\n",
        "\n",
        "- min_count=5: means the model ignores words that appear fewer than 5 times in the corpus. Reduce noise and focus on words with enough context to learn from.\n",
        "\n",
        "- workers=4: sets the number of CPU cores used for training. Using 4 speeds up training without using too many system resources.\n",
        "\n",
        "- sg=1: tells the model to use the skip-gram method, which works better than CBOW for smaller datasets and also helps learn better representations for rare words.\n",
        "\n",
        "- epochs=10: how many times the model goes through the whole dataset. I chose 10 so the model learns good representations from the data.\n",
        "\n",
        "I tested the word \"trade\" and it outputs words like: \"deficit\", \"imbalance\", \"protectionist\"... whichmake sense semantically, showing tht the model actually learned meaningful relationships."
      ]
    },
    {
      "cell_type": "markdown",
      "metadata": {
        "id": "MCjDYoGEGL26"
      },
      "source": [
        "---"
      ]
    },
    {
      "cell_type": "markdown",
      "metadata": {
        "id": "zHtaKZJHGL27"
      },
      "source": [
        "# Evaluating on semantic similarity (17 points)"
      ]
    },
    {
      "cell_type": "markdown",
      "metadata": {
        "id": "74zPOg-BGL27"
      },
      "source": [
        "## Question 5 (17 points)\n",
        "\n",
        "Evaluate the performance of your models on a **semantic similarity task**. Using `SimLex-999` as gold standard. Evaluate all of your models on the dataset in `data/SimLex-999.txt`, and determine the best performing model. Note: There should be 5 to 8 model evaluations in total. 5 if you did not do any extra (2 from Q2 + 2 from Q3 + 1 from Q4), and 8 if you did them all (1 from Q1, 3 from Q2 + 3 from Q3 + 2 from Q4).\n",
        "\n",
        "1. Your evaluation should follow the approach shown in lab 4 (Section 1.6: \"Evaluating your Model\"), using a **correlation measure** on model predictions and the (human) gold standard.\n",
        "2. Remember to **visualize** your results (e.g., as bar plots).\n",
        "3. Take note (and report) the overlap between your models and the SimLex-999 dataset, i.e., how many pairs are shared by your model and the evaluation dataset.\n",
        "4. Make sure to discuss your results and provide your reasoning on them.\n",
        "\n",
        "### Remarks\n",
        "\n",
        "- The 'SimLex-999' dataset is described in `data/SimLex-999.README.txt`, and [the author's github page](https://fh295.github.io/simlex.html). Hint: the relevant judgements are those in the `SimLex999` column.\n",
        "- To directly compare the models against the gold standard, you will have to find the *overlap* between them, i.e. the pairs that occur in your model *and* the evaluation dataset."
      ]
    },
    {
      "cell_type": "code",
      "execution_count": null,
      "metadata": {
        "id": "LYJSscsKGL27",
        "outputId": "d920176a-1ff7-48f6-b1f4-d059e64fc8c3"
      },
      "outputs": [
        {
          "name": "stdout",
          "output_type": "stream",
          "text": [
            "['word1', 'word2', 'POS', 'SimLex999', 'conc(w1)', 'conc(w2)', 'concQ', 'Assoc(USF)', 'SimAssoc333', 'SD(SimLex)']\n",
            "['old', 'new', 'A', '1.58', '2.72', '2.81', '2', '7.25', '1', '0.41']\n",
            "['smart', 'intelligent', 'A', '9.2', '1.75', '2.46', '1', '7.11', '1', '0.67']\n",
            "['hard', 'difficult', 'A', '8.77', '3.76', '2.21', '2', '5.94', '1', '1.19']\n",
            "['happy', 'cheerful', 'A', '9.55', '2.56', '2.34', '1', '5.85', '1', '2.18']\n",
            "['hard', 'easy', 'A', '0.95', '3.76', '2.07', '2', '5.82', '1', '0.93']\n",
            "['fast', 'rapid', 'A', '8.75', '3.32', '3.07', '2', '5.66', '1', '1.68']\n",
            "['happy', 'glad', 'A', '9.17', '2.56', '2.36', '1', '5.49', '1', '1.59']\n",
            "['short', 'long', 'A', '1.23', '3.61', '3.18', '2', '5.36', '1', '1.58']\n",
            "['stupid', 'dumb', 'A', '9.58', '1.75', '2.36', '1', '5.26', '1', '1.48']\n",
            "['weird', 'strange', 'A', '8.93', '1.59', '1.86', '1', '4.26', '1', '1.3']\n",
            "['wide', 'narrow', 'A', '1.03', '3.06', '3.04', '2', '4.06', '1', '0.58']\n"
          ]
        }
      ],
      "source": [
        "with open(\"data/SimLex-999.txt\") as f:\n",
        "    for n, line in enumerate(f.read().split(\"\\n\")):\n",
        "        items = line.split(\"\\t\")\n",
        "        print(items)\n",
        "        if n>10:\n",
        "            break"
      ]
    },
    {
      "cell_type": "code",
      "execution_count": null,
      "metadata": {
        "id": "BfmblzryGL28",
        "outputId": "8316bdc5-39b4-413c-adf3-6a3283acbf57"
      },
      "outputs": [
        {
          "name": "stdout",
          "output_type": "stream",
          "text": [
            "   word1        word2  SimLex999\n",
            "0    old          new       1.58\n",
            "1  smart  intelligent       9.20\n",
            "2   hard    difficult       8.77\n",
            "3  happy     cheerful       9.55\n",
            "4   hard         easy       0.95\n"
          ]
        }
      ],
      "source": [
        "import pandas as pd\n",
        "from scipy.stats import spearmanr\n",
        "from sklearn.metrics.pairwise import cosine_similarity\n",
        "\n",
        "# SimLex-999 dataset, keeping only relevant columns\n",
        "simlex = pd.read_csv(\"data/SimLex-999.txt\", sep=\"\\t\")\n",
        "simlex = simlex[['word1', 'word2', 'SimLex999']]\n",
        "print(simlex.head()) # see first few rows\n",
        "\n",
        "#evaluate model against SimLex-999\n",
        "def evaluate_model(model, model_name, is_df=True):\n",
        "    gold_scores = [] # similarity scores from SimLex-999\n",
        "    model_scores = [] # similarity scores predicted by model\n",
        "    missing = 0 # number of pairs not found in model\n",
        "\n",
        "    # iterate over each pair in SimLex-999\n",
        "    for _, row in simlex.iterrows():\n",
        "        w1, w2 = row['word1'], row['word2']\n",
        "        if is_df:  # for count-based models stored in DataFrame\n",
        "            if w1 in model.index and w2 in model.index:\n",
        "                # cosine similarity between word vectors\n",
        "                sim = cosine_similarity(model.loc[w1].values.reshape(1, -1), model.loc[w2].values.reshape(1, -1))[0][0]\n",
        "                gold_scores.append(row['SimLex999'])\n",
        "                model_scores.append(sim)\n",
        "            else:\n",
        "                missing += 1\n",
        "        else:  # for Word2Vec, use the model directly\n",
        "            if w1 in model and w2 in model:\n",
        "                sim = model.similarity(w1, w2)\n",
        "                gold_scores.append(row['SimLex999'])\n",
        "                model_scores.append(sim)\n",
        "            else:\n",
        "                missing += 1\n",
        "\n",
        "    # compute spearman correlation\n",
        "    corr = spearmanr(gold_scores, model_scores).correlation\n",
        "    coverage = len(gold_scores) # number of pairs covered by model\n",
        "    print(f\"{model_name}: Spearman correlation = {corr:.4f} ({coverage} pairs covered, {missing} missing)\")\n",
        "    return model_name, corr, coverage"
      ]
    },
    {
      "cell_type": "code",
      "execution_count": null,
      "metadata": {
        "id": "CDUGM1fPGL28",
        "outputId": "612cb56b-728f-4ad5-8c98-1d4a537bdc3a"
      },
      "outputs": [
        {
          "name": "stdout",
          "output_type": "stream",
          "text": [
            "PPMI: Spearman correlation = 0.1285 (43 pairs covered, 956 missing)\n",
            "PLMI: Spearman correlation = 0.2798 (43 pairs covered, 956 missing)\n",
            "Smoothed PPMI: Spearman correlation = 0.1473 (43 pairs covered, 956 missing)\n",
            "SVD Smoothed PPMI: Spearman correlation = 0.0726 (43 pairs covered, 956 missing)\n",
            "SVD PLMI: Spearman correlation = 0.2722 (43 pairs covered, 956 missing)\n",
            "Word2Vec: Spearman correlation = 0.1858 (356 pairs covered, 643 missing)\n"
          ]
        }
      ],
      "source": [
        "results = []\n",
        "\n",
        "# evaluating models\n",
        "results.append(evaluate_model(pmi_df, \"PPMI\"))\n",
        "results.append(evaluate_model(plmi_df, \"PLMI\"))\n",
        "results.append(evaluate_model(smoothed_ppmi_df, \"Smoothed PPMI\"))\n",
        "results.append(evaluate_model(space_1_reduced_df, \"SVD Smoothed PPMI\"))\n",
        "results.append(evaluate_model(space_2_reduced_df, \"SVD PLMI\"))\n",
        "results.append(evaluate_model(word_vectors, \"Word2Vec\", is_df=False))\n",
        "\n",
        "# visualize results\n",
        "results_df = pd.DataFrame(results, columns=[\"Model\", \"Spearman\", \"Coverage\"])\n",
        "results_df = results_df.sort_values(\"Spearman\", ascending=False)"
      ]
    },
    {
      "cell_type": "code",
      "execution_count": null,
      "metadata": {
        "id": "Kx3VZszhGL28",
        "outputId": "3607ca61-ced7-480b-f7f7-e7b1a9c82749"
      },
      "outputs": [
        {
          "data": {
            "image/png": "[encoded data removed]",
            "text/plain": [
              "<Figure size 1000x600 with 1 Axes>"
            ]
          },
          "metadata": {},
          "output_type": "display_data"
        }
      ],
      "source": [
        "import matplotlib.pyplot as plt\n",
        "\n",
        "plt.figure(figsize=(10, 6))\n",
        "plt.bar(results_df[\"Model\"], results_df[\"Spearman\"], color=\"mediumslateblue\")\n",
        "plt.xticks(rotation=45)\n",
        "plt.ylabel(\"Spearman Correlation\")\n",
        "plt.title(\"SimLex-999: Semantic Similarity Evaluation\")\n",
        "plt.tight_layout()\n",
        "plt.show()"
      ]
    },
    {
      "cell_type": "markdown",
      "metadata": {
        "id": "TVQl8bcaGL29"
      },
      "source": [
        "The best performing model in terms of semantic similarity was The PLMI model gave the best results overall, which shows that it was good at capturing word meaning. Its reduced version (SVD PLMI) also did well, meaning the dimensionality reduction didn’t hurt performance too much.\n",
        "\n",
        "Word2Vec didn’t have the highest score, but it covered way more word pairs than the others. That’s useful in practice since it can handle a bigger vocabulary.\n",
        "\n",
        "On the other hand, the smoothed PPMI models didn’t perform as well. Especially after applying SVD, the similarity scores got worse, probably because too much information was lost.\n",
        "\n",
        "In short, PLMI gave the best results, and Word2Vec was a solid option thanks to its wide coverage."
      ]
    },
    {
      "cell_type": "markdown",
      "metadata": {
        "id": "Wym1oiOgGL29"
      },
      "source": [
        "For this assignment i was assisted by chat cpt, this is the link to the conversation: https://chatgpt.com/share/67e97df8-1b0c-800d-8a53-e5baf89cdc9b"
      ]
    },
    {
      "cell_type": "markdown",
      "metadata": {
        "id": "HznDdzEDGL29"
      },
      "source": [
        "---"
      ]
    }
  ],
  "metadata": {
    "kernelspec": {
      "display_name": "base",
      "language": "python",
      "name": "python3"
    },
    "language_info": {
      "codemirror_mode": {
        "name": "ipython",
        "version": 3
      },
      "file_extension": ".py",
      "mimetype": "text/x-python",
      "name": "python",
      "nbconvert_exporter": "python",
      "pygments_lexer": "ipython3",
      "version": "3.12.4"
    },
    "toc": {
      "base_numbering": 1,
      "nav_menu": {},
      "number_sections": true,
      "sideBar": true,
      "skip_h1_title": false,
      "title_cell": "Table of Contents",
      "title_sidebar": "Contents",
      "toc_cell": false,
      "toc_position": {},
      "toc_section_display": true,
      "toc_window_display": true
    },
    "colab": {
      "provenance": [],
      "include_colab_link": true
    }
  },
  "nbformat": 4,
  "nbformat_minor": 0
}